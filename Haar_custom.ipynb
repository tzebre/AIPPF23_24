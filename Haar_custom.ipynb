{
 "cells": [
  {
   "cell_type": "markdown",
   "id": "b43a4469-e9ab-4783-83e3-4cc5943dacf0",
   "metadata": {},
   "source": [
    "# Haar features value measuring on black and white images "
   ]
  },
  {
   "cell_type": "code",
   "execution_count": 1,
   "id": "a1ffb98b-4fb9-42d7-9033-98fc78254623",
   "metadata": {},
   "outputs": [],
   "source": [
    "import numpy as np \n",
    "import matplotlib.pyplot as plt\n",
    "from random import randint\n",
    "from PIL import Image, ImageDraw, ImageFilter\n",
    "import matplotlib.patches as patches\n",
    "import glob\n",
    "import os, shutil\n",
    "\n",
    "%matplotlib inline"
   ]
  },
  {
   "cell_type": "markdown",
   "id": "b03264bc-3e58-49dc-aa0d-7850bad53f1b",
   "metadata": {},
   "source": [
    "## Haar features array creation "
   ]
  },
  {
   "cell_type": "code",
   "execution_count": 2,
   "id": "c2db0ecf-8960-4ac1-b2e8-c1cd1586f483",
   "metadata": {},
   "outputs": [],
   "source": [
    "def edge(size, orient=0): \n",
    "    \"\"\"\n",
    "    Creates an edge Haar feature with specified size and orientation.\n",
    "\n",
    "    Args:\n",
    "        size (tuple): A tuple specifying the size of the feature (rows, columns).\n",
    "        orient (int, optional): Orientation of the edge. 0 for row orientation (default), 1 for column orientation.\n",
    "\n",
    "    Returns:\n",
    "        tuple: A array containing the edge feature and the start and end coordinates of half of it.\n",
    "    \"\"\"\n",
    "    if size[orient] % 2 != 0:\n",
    "        size[orient] += 1\n",
    "    arr_im = np.ones(size, dtype=np.intc)\n",
    "    if orient:\n",
    "        arr_im[:,size[1]//2:] = 0\n",
    "        start = (0, size[1]//2)\n",
    "        end = (size[0],size[1])\n",
    "    else:\n",
    "        arr_im[size[0]//2:,] = 0\n",
    "        start = (size[0]//2, 0)\n",
    "        end = (size[0],size[1])\n",
    "    \n",
    "    return arr_im, (start,end)\n",
    "\n",
    "def line(size, orient=0):\n",
    "    \"\"\"\n",
    "    Creates an line Haar feature with specified size and orientation.\n",
    "\n",
    "    Args:\n",
    "        size (tuple): A tuple specifying the size of the feature (rows, columns).\n",
    "        orient (int, optional): Orientation of the edge. 0 for row orientation (default), 1 for column orientation.\n",
    "\n",
    "    Returns:\n",
    "        tuple: A array containing the line feature and the start and end coordinates of half of it.\n",
    "    \"\"\"\n",
    "    while size[orient] % 3 != 0:\n",
    "        size[orient] += 1\n",
    "    arr_im = np.ones(size, dtype=np.intc)\n",
    "    if orient:\n",
    "        arr_im[:,size[1]//3:size[1]*2//3] = 0\n",
    "        start = (0, size[1]//3)\n",
    "        end = (size[0], size[1]*2//3)\n",
    "    else:\n",
    "        arr_im[size[0]//3:size[0]*2//3,:] = 0\n",
    "        start = (size[0]//3, size[1]//3)\n",
    "        end = (size[0]*2//3, size[1]*2//3)\n",
    "    return arr_im, (start,end)\n",
    "\n",
    "def sqr(size):\n",
    "    \"\"\"\n",
    "    Creates an four square Haar feature with specified size.\n",
    "\n",
    "    Args:\n",
    "        size (tuple): A tuple specifying the size of the feature (rows, columns).\n",
    "\n",
    "    Returns:\n",
    "        tuple: A array containing the four square feature, the start and end of each specific part.\n",
    "    \"\"\"\n",
    "    for orient in [0,1]:\n",
    "        if size[orient] % 2 != 0:\n",
    "            #print(f\"Feature size {size} not odd\")\n",
    "            size[orient] += 1\n",
    "            #print(f\"Feature size modified to {size}\")\n",
    "    arr_im = np.ones(size, dtype=np.intc)\n",
    "    arr_im[0:size[0]//2,0:size[1]//2] = 0\n",
    "    arr_im[size[0]//2:size[0],size[1]//2:size[1]] = 0\n",
    "    start1 = (0, 0)\n",
    "    end1 = (size[0]//2, size[1]//2)\n",
    "    start2=(size[0]//2,size[1]//2)\n",
    "    end2 = (size[0],size[1])\n",
    "    return arr_im, ((start1,end1), (start2, end2))"
   ]
  },
  {
   "cell_type": "code",
   "execution_count": 3,
   "id": "bbd83e05-9597-4d63-b13d-fe0ef9f1250f",
   "metadata": {},
   "outputs": [
    {
     "name": "stdout",
     "output_type": "stream",
     "text": [
      "Edge feature\n",
      "((0, 5), (5, 10))\n",
      "[[1 1 1 1 1 0 0 0 0 0]\n",
      " [1 1 1 1 1 0 0 0 0 0]\n",
      " [1 1 1 1 1 0 0 0 0 0]\n",
      " [1 1 1 1 1 0 0 0 0 0]\n",
      " [1 1 1 1 1 0 0 0 0 0]]\n"
     ]
    },
    {
     "data": {
      "image/png": "[encoded data removed]",
      "text/plain": [
       "<Figure size 640x480 with 1 Axes>"
      ]
     },
     "metadata": {},
     "output_type": "display_data"
    },
    {
     "name": "stdout",
     "output_type": "stream",
     "text": [
      "Line feature\n",
      "((0, 4), (5, 8))\n",
      "[[1 1 1 1 0 0 0 0 1 1 1 1]\n",
      " [1 1 1 1 0 0 0 0 1 1 1 1]\n",
      " [1 1 1 1 0 0 0 0 1 1 1 1]\n",
      " [1 1 1 1 0 0 0 0 1 1 1 1]\n",
      " [1 1 1 1 0 0 0 0 1 1 1 1]]\n"
     ]
    },
    {
     "data": {
      "image/png": "[encoded data removed]",
      "text/plain": [
       "<Figure size 640x480 with 1 Axes>"
      ]
     },
     "metadata": {},
     "output_type": "display_data"
    },
    {
     "name": "stdout",
     "output_type": "stream",
     "text": [
      "4 square feature\n",
      "(((0, 0), (3, 6)), ((3, 6), (6, 12)))\n",
      "[[0 0 0 0 0 0 1 1 1 1 1 1]\n",
      " [0 0 0 0 0 0 1 1 1 1 1 1]\n",
      " [0 0 0 0 0 0 1 1 1 1 1 1]\n",
      " [1 1 1 1 1 1 0 0 0 0 0 0]\n",
      " [1 1 1 1 1 1 0 0 0 0 0 0]\n",
      " [1 1 1 1 1 1 0 0 0 0 0 0]]\n"
     ]
    },
    {
     "data": {
      "image/png": "[encoded data removed]",
      "text/plain": [
       "<Figure size 640x480 with 1 Axes>"
      ]
     },
     "metadata": {},
     "output_type": "display_data"
    }
   ],
   "source": [
    "size = [5,10]\n",
    "print(\"Edge feature\")\n",
    "shape, test = edge(size, orient=1)\n",
    "print(test)\n",
    "print(shape)\n",
    "plt.imshow(shape, cmap=\"gray\")\n",
    "plt.xticks([], [])\n",
    "plt.yticks([], [])\n",
    "plt.show()\n",
    "print(\"Line feature\")\n",
    "shape, test = line(size, orient=1)\n",
    "print(test)\n",
    "print(shape)\n",
    "plt.imshow(shape, cmap=\"gray\")\n",
    "plt.xticks([], [])\n",
    "plt.yticks([], [])\n",
    "plt.show()\n",
    "print(\"4 square feature\")\n",
    "shape, test = sqr(size)\n",
    "print(test)\n",
    "print(shape)\n",
    "plt.imshow(shape, cmap=\"gray\")\n",
    "plt.xticks([], [])\n",
    "plt.yticks([], [])\n",
    "plt.show()\n"
   ]
  },
  {
   "cell_type": "markdown",
   "id": "f5f96099-25c9-43d6-99cd-359dcd1ddd83",
   "metadata": {},
   "source": [
    "## Integral Image computing"
   ]
  },
  {
   "cell_type": "code",
   "execution_count": 4,
   "id": "b862f80d-938a-435e-9268-f31993d96a7a",
   "metadata": {},
   "outputs": [],
   "source": [
    "def integral_img(image, debug=False):\n",
    "    \"\"\"\n",
    "    Calculates the integral image of a given input image.\n",
    "\n",
    "    Args:\n",
    "        image (numpy.ndarray): The input image.\n",
    "        debug (bool, optional): Whether to display debug information and plots. Defaults to False.\n",
    "\n",
    "    Returns:\n",
    "        numpy.ndarray: The integral image.\n",
    "    \"\"\"\n",
    "    arr_img = np.array(image,dtype=np.uint64)\n",
    "    before = arr_img\n",
    "    integral = before.copy()\n",
    "    row = integral.shape[0]\n",
    "    col = integral.shape[1]\n",
    "    for r in range(0,row):\n",
    "        for co in range(0,col):\n",
    "            if r == 0 and co == 0:\n",
    "                a = 0\n",
    "                b = 0\n",
    "                c = 0 \n",
    "            elif r == 0:\n",
    "                a = 0\n",
    "                b = 0\n",
    "                c = integral[r,co-1]\n",
    "            elif co == 0:\n",
    "                a = 0\n",
    "                b = integral[r-1,co]\n",
    "                c = 0\n",
    "            else: \n",
    "                a = integral[r-1, co-1]\n",
    "                b = integral[r-1,co]\n",
    "                c = integral[r,co-1]\n",
    "            px = b+c+integral[r,co]-a\n",
    "            integral[r,co] = px\n",
    "    if debug:\n",
    "        f, ax = plt.subplots(1,2)\n",
    "        ax[0].imshow(integ, cmap=\"gray\")\n",
    "        ax[1].imshow(base, cmap=\"gray\")\n",
    "        plt.show()\n",
    "        print(\"Original:\")\n",
    "        print(before)\n",
    "        print(\"Integral:\")\n",
    "        print(integ)\n",
    "    return integral\n"
   ]
  },
  {
   "cell_type": "code",
   "execution_count": 5,
   "id": "92742f13-357f-4967-9934-3ababbbaf205",
   "metadata": {},
   "outputs": [
    {
     "data": {
      "text/plain": [
       "Text(0.5, 1.0, 'Original image')"
      ]
     },
     "execution_count": 5,
     "metadata": {},
     "output_type": "execute_result"
    },
    {
     "data": {
      "image/png": "[encoded data removed]",
      "text/plain": [
       "<Figure size 640x480 with 2 Axes>"
      ]
     },
     "metadata": {},
     "output_type": "display_data"
    }
   ],
   "source": [
    "base = Image.open(\"face.png\").convert('L')\n",
    "base = base.resize((base.size[0]//10,base.size[1]//10))\n",
    "integ = integral_img(base, False)\n",
    "f, ax = plt.subplots(1,2)\n",
    "ax[0].imshow(integ, cmap=\"gray\")\n",
    "ax[1].imshow(base, cmap=\"gray\")\n",
    "ax[0].set_title(\"Integral image\")\n",
    "ax[1].set_title(\"Original image\")"
   ]
  },
  {
   "cell_type": "code",
   "execution_count": 6,
   "id": "a75667b8-5840-48f4-bbd4-87a98c03e644",
   "metadata": {},
   "outputs": [],
   "source": [
    "## Area calculation of pixel sum with integral image "
   ]
  },
  {
   "cell_type": "code",
   "execution_count": 7,
   "id": "3277cfa8-fa5a-4c31-93e4-033ab9a576c7",
   "metadata": {},
   "outputs": [],
   "source": [
    "def area_sum(start, end, arr):\n",
    "    \"\"\"\n",
    "    Calculates the sum of pixel in a rectangular area of a given integral image.\n",
    "\n",
    "    Args:\n",
    "        start (tuple): The start coordinates of the area (row start, column start).\n",
    "        end (tuple): The end coordinates of the area (row end, column end).\n",
    "        arr (numpy.ndarray): The input array (integral image).\n",
    "\n",
    "    Returns:\n",
    "        int: The sum of values in the specified area.\n",
    "    \"\"\"\n",
    "    rs, cs = start\n",
    "    re, ce = end\n",
    "    rs = rs -1\n",
    "    cs = cs -1 \n",
    "    if rs <0 or cs <0:\n",
    "        A = 0\n",
    "        if cs >= 0:\n",
    "            C = arr[re,cs]\n",
    "        else:\n",
    "            C = 0\n",
    "        if rs >= 0:\n",
    "            B = arr[rs,ce]\n",
    "        else:\n",
    "            B = 0\n",
    "    if cs >= 0 and rs >= 0:\n",
    "        A = arr[rs, cs]\n",
    "        C = arr[re,cs]\n",
    "        B = arr[rs,ce]\n",
    "    D = arr[re,ce]\n",
    "    total = D/10000 - C/10000 - B/10000 + A/10000\n",
    "    return int(total*10000)"
   ]
  },
  {
   "cell_type": "markdown",
   "id": "9bee4a09-281d-468a-a97f-6d0a583325c1",
   "metadata": {},
   "source": [
    "## Haar feature value calcul on image"
   ]
  },
  {
   "cell_type": "code",
   "execution_count": 8,
   "id": "937b85b3-405b-47af-ace7-ded086d55b8f",
   "metadata": {},
   "outputs": [],
   "source": [
    "def overlay_extract(shape, type, coords, start, image, integral, show = False, roi= False, ttl =-1):\n",
    "    \"\"\"\n",
    "    Extracts a feature of interest from the given image and calculates the difference in total area values.\n",
    "\n",
    "    Args:\n",
    "        shape (numpy.ndarray): The shape of the feature.\n",
    "        type (str): The type of the feature (\"edge\", \"line\", or \"sqr\").\n",
    "        coords (list): The coordinates of the feature.\n",
    "        start (tuple): The starting coordinates of the feature within the image.\n",
    "        image (numpy.ndarray): The input image.\n",
    "        integral (numpy.ndarray): The integral image.\n",
    "        show (bool, optional): Whether to display the overlay image and bounding boxes. Defaults to False.\n",
    "        roi (bool, optional): Whether to display the feature bounding box. Defaults to False.\n",
    "        ttl (int, optional): The title of the subplot image file. Defaults to -1.\n",
    "\n",
    "    Returns:\n",
    "        int: The difference in total area values.\n",
    "    \"\"\"\n",
    "\n",
    "    if type ==\"edge\":\n",
    "        end = (start[0] + shape.shape[0], start[1] + shape.shape[1])\n",
    "        start_zone = (start[0] + coords[0][0], start[1] + coords[0][1])\n",
    "        end_zone = (start[0] + coords[1][0], start[1] + coords[1][1])\n",
    "        total = area_sum(start, end, integ)\n",
    "        minus = area_sum(start_zone, end_zone, integ)\n",
    "        diff = total - 2*minus\n",
    "    elif type ==\"line\":\n",
    "        end = (start[0] + shape.shape[0], start[1] + shape.shape[1])\n",
    "        start_zone = (start[0] + coords[0][0], start[1] + coords[0][1])\n",
    "        end_zone = (start[0] + coords[1][0], start[1] + coords[1][1])\n",
    "        total = area_sum(start, end, integ)\n",
    "        minus = area_sum(start_zone, end_zone, integ)\n",
    "        diff = total - 2*minus\n",
    "    elif type ==\"sqr\":\n",
    "        end = (start[0] + shape.shape[0], start[1] + shape.shape[1])\n",
    "        start_zone1 = (start[0] + coords[0][0][0], start[1] + coords[0][0][1])\n",
    "        end_zone1 = (start[0] + coords[0][1][0], start[1] + coords[0][1][1])\n",
    "        start_zone2 = (start[0] + coords[1][0][0], start[1] + coords[1][0][1])\n",
    "        end_zone2 = (start[0] + coords[1][1][0], start[1] + coords[1][1][1])\n",
    "        total = area_sum(start, end, integ)\n",
    "        minus = area_sum(start_zone1, end_zone1, integ) + area_sum(start_zone2, end_zone2, integ)\n",
    "        diff = total - 2*minus\n",
    "    \n",
    "    back = image.copy()\n",
    "    over = Image.fromarray(shape* 255)\n",
    "    fg, ax = plt.subplots()\n",
    "    back.paste(over, start)\n",
    "    ax.imshow(back, cmap=\"gray\")\n",
    "    rect = patches.Rectangle((start[0]-0.5, start[1]-0.5), shape.shape[1], shape.shape[0], linewidth=1.5, edgecolor='black', facecolor='none')\n",
    "    ax.add_patch(rect)\n",
    "    if roi:\n",
    "        rect = patches.Rectangle((roi[0][0]-0.5, roi[0][1]-0.5), roi[1][0]-roi[0][0], roi[1][1]-roi[0][1], linewidth=2, edgecolor='r', facecolor='none')\n",
    "        ax.add_patch(rect)\n",
    "        plt.title(f\"Feature value:{diff:>8d}\")\n",
    "    if ttl != -1:\n",
    "        plt.savefig(f\"gif/{ttl}.png\")\n",
    "    \n",
    "    if show:\n",
    "        plt.show()\n",
    "    else:\n",
    "        plt.close(fg)\n",
    "        \n",
    "    return diff\n",
    "        "
   ]
  },
  {
   "cell_type": "code",
   "execution_count": 9,
   "id": "2a2bccff-f712-4bf9-8667-00dfa7203b99",
   "metadata": {},
   "outputs": [
    {
     "data": {
      "image/png": "[encoded data removed]",
      "text/plain": [
       "<Figure size 640x480 with 1 Axes>"
      ]
     },
     "metadata": {},
     "output_type": "display_data"
    },
    {
     "name": "stdout",
     "output_type": "stream",
     "text": [
      "Edge feature, value=-1091\n"
     ]
    },
    {
     "data": {
      "image/png": "[encoded data removed]",
      "text/plain": [
       "<Figure size 640x480 with 1 Axes>"
      ]
     },
     "metadata": {},
     "output_type": "display_data"
    },
    {
     "name": "stdout",
     "output_type": "stream",
     "text": [
      "Line feature, value=10944\n"
     ]
    },
    {
     "data": {
      "image/png": "[encoded data removed]",
      "text/plain": [
       "<Figure size 640x480 with 1 Axes>"
      ]
     },
     "metadata": {},
     "output_type": "display_data"
    },
    {
     "name": "stdout",
     "output_type": "stream",
     "text": [
      "Four square feature, value=-3075\n"
     ]
    }
   ],
   "source": [
    "size = [15,10]\n",
    "sp , coords = edge(size, orient=1)\n",
    "df = overlay_extract(sp,\"edge\", coords, (2, 5), base, integ, True )\n",
    "print(f\"Edge feature, value={df}\")\n",
    "sp , coords = line(size, orient=1)\n",
    "df = overlay_extract(sp,\"line\", coords, (5, 10), base, integ, True)\n",
    "print(f\"Line feature, value={df}\")\n",
    "sp , coords = sqr(size)\n",
    "df = overlay_extract(sp,\"sqr\", coords, (20, 10), base, integ, True)\n",
    "print(f\"Four square feature, value={df}\")"
   ]
  },
  {
   "cell_type": "code",
   "execution_count": 10,
   "id": "9ae7a0a6-a966-4ad1-b479-60601d6944e1",
   "metadata": {},
   "outputs": [],
   "source": [
    "def sliding_feature(start, end,image, integ, feature,type, ttl):\n",
    "    \"\"\"\n",
    "    Sliding window approach to extract features from an image and calculate the difference in total area values.\n",
    "\n",
    "    Args:\n",
    "        start (tuple): The starting coordinates of the sliding window.\n",
    "        end (tuple): The ending coordinates of the sliding window.\n",
    "        image (numpy.ndarray): The input image.\n",
    "        integ (numpy.ndarray): The integral image.\n",
    "        feature (tuple): A tuple containing the feature shape and coordinates.\n",
    "        type (str): The type of the feature (\"edge\", \"line\", or \"sqr\").\n",
    "        ttl (int): The title of the subplot image file.\n",
    "\n",
    "    Returns:\n",
    "        int: The updated title of the subplot image file.\n",
    "    \"\"\"\n",
    "    max_row = end[1] - feature[0].shape[0]\n",
    "    max_col = end[0] - feature[0].shape[1]    \n",
    "    for start_row in range(start[1],max_row+1):\n",
    "        for start_col in range(start[0],max_col+1):\n",
    "            df= overlay_extract(sp,type, feature[1], (start_col, start_row), image, integ, False, (start,end), ttl= ttl)\n",
    "            ttl += 1\n",
    "    return ttl"
   ]
  },
  {
   "cell_type": "code",
   "execution_count": 11,
   "id": "91103ffd-9a44-4f40-ab91-2a8cff245ead",
   "metadata": {},
   "outputs": [],
   "source": [
    "size = [10, 12]\n",
    "shutil.rmtree(\"gif/\")\n",
    "os.mkdir(\"gif\")\n",
    "ttl = 0\n",
    "sp , coords = edge(size, orient=1)\n",
    "ttl = sliding_feature((10,15), (30,40),base, integ, (sp,coords),\"edge\", ttl)\n",
    "sp , coords = line(size, orient=1)\n",
    "ttl = sliding_feature((10,15), (30,40),base, integ, (sp,coords),\"line\", ttl)\n",
    "sp , coords = sqr(size)\n",
    "ttl = sliding_feature((10,15), (30,40),base, integ, (sp,coords),\"sqr\", ttl)"
   ]
  },
  {
   "cell_type": "code",
   "execution_count": 12,
   "id": "dc5d84ce-0b29-48c5-9793-3ce2c0472a7e",
   "metadata": {},
   "outputs": [],
   "source": [
    "import imageio.v2 as imageio\n",
    "images = []\n",
    "for filename in range(0,len(os.listdir(\"gif\"))):\n",
    "    images.append(imageio.imread(f\"gif/{filename}.png\"))\n",
    "imageio.mimsave('movie.gif', images)"
   ]
  }
 ],
 "metadata": {
  "kernelspec": {
   "display_name": "Python 3 (ipykernel)",
   "language": "python",
   "name": "python3"
  },
  "language_info": {
   "codemirror_mode": {
    "name": "ipython",
    "version": 3
   },
   "file_extension": ".py",
   "mimetype": "text/x-python",
   "name": "python",
   "nbconvert_exporter": "python",
   "pygments_lexer": "ipython3",
   "version": "3.8.17"
  }
 },
 "nbformat": 4,
 "nbformat_minor": 5
}
